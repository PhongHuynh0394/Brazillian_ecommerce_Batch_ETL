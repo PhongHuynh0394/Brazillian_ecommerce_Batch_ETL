{
 "cells": [
  {
   "cell_type": "markdown",
   "id": "9987fddc-6e40-466a-b158-c4473b359e3f",
   "metadata": {},
   "source": [
    "# Import module "
   ]
  },
  {
   "cell_type": "code",
   "execution_count": 21,
   "id": "08f5b61d-2672-445c-bb60-48ae86974a86",
   "metadata": {},
   "outputs": [],
   "source": [
    "from minio import Minio\n",
    "from minio.error import S3Error\n",
    "import os"
   ]
  },
  {
   "cell_type": "markdown",
   "id": "ede4e52c-62d0-450b-a0f8-4f324adc4141",
   "metadata": {},
   "source": [
    "Create Minio object"
   ]
  },
  {
   "cell_type": "code",
   "execution_count": 2,
   "id": "039b5ca8-5eae-4bfb-bea8-7fbaef2b3846",
   "metadata": {},
   "outputs": [],
   "source": [
    "client = Minio(\n",
    "        endpoint=\"minio:9000\",\n",
    "        access_key=\"phonghuynh\",\n",
    "        secret_key=\"phonghuynh\",\n",
    "        secure=False\n",
    "    )"
   ]
  },
  {
   "cell_type": "markdown",
   "id": "4b0ef3ce-7035-4aac-827d-501c16dbfcd7",
   "metadata": {},
   "source": [
    "# Check buckets "
   ]
  },
  {
   "cell_type": "markdown",
   "id": "6c5abe96-ea84-43c2-8559-70264a195668",
   "metadata": {},
   "source": [
    "### Check exist bucket function"
   ]
  },
  {
   "cell_type": "code",
   "execution_count": 3,
   "id": "25392848-49ab-49b7-b0af-a70ee445d559",
   "metadata": {},
   "outputs": [],
   "source": [
    "#Check bucket, if not exist -> create\n",
    "def check_bucket_exist(client, bucket) -> None:\n",
    "    if client.bucket_exists(bucket):\n",
    "        print(f\"bucket {bucket} exits\")\n",
    "    else:\n",
    "        print(f\"bucket {bucket} does not exist\")\n",
    "        print(f\"Create bucket {bucket}\")\n",
    "        client.make_bucket(bucket)\n"
   ]
  },
  {
   "cell_type": "markdown",
   "id": "6e4d5f38-f8d9-4bc2-b574-b262b54f623e",
   "metadata": {},
   "source": [
    "Check bucket name \"warehouse-manual\""
   ]
  },
  {
   "cell_type": "code",
   "execution_count": 4,
   "id": "3ce70e40-3145-4808-a6d5-239f8821da0f",
   "metadata": {},
   "outputs": [
    {
     "name": "stdout",
     "output_type": "stream",
     "text": [
      "bucket warehouse-manual exits\n"
     ]
    }
   ],
   "source": [
    "bucket = \"warehouse-manual\"\n",
    "check_bucket_exist(client, bucket)"
   ]
  },
  {
   "cell_type": "markdown",
   "id": "70560185",
   "metadata": {},
   "source": [
    "list all bucket"
   ]
  },
  {
   "cell_type": "code",
   "execution_count": 9,
   "id": "b0fc689d",
   "metadata": {},
   "outputs": [
    {
     "name": "stdout",
     "output_type": "stream",
     "text": [
      "[Bucket('warehouse-manual'), Bucket('warehouse-script')]\n"
     ]
    }
   ],
   "source": [
    "buckets = client.list_buckets()\n",
    "print(buckets)"
   ]
  },
  {
   "cell_type": "markdown",
   "id": "0a467e6c",
   "metadata": {},
   "source": [
    "# Check object in bucket"
   ]
  },
  {
   "cell_type": "markdown",
   "id": "5e43f66a",
   "metadata": {},
   "source": [
    "Check object in bucket `warehouse-manual`"
   ]
  },
  {
   "cell_type": "code",
   "execution_count": 11,
   "id": "f2ecd411",
   "metadata": {},
   "outputs": [
    {
     "name": "stdout",
     "output_type": "stream",
     "text": [
      "['4.PNG', 'Largest-Bank.csv', 'bank_market_cap.json', 'download.jpeg']\n"
     ]
    }
   ],
   "source": [
    "objects_manual = client.list_objects(\"warehouse-manual\")\n",
    "print([obj.object_name for obj in objects_manual])"
   ]
  },
  {
   "cell_type": "markdown",
   "id": "b8d400db",
   "metadata": {},
   "source": [
    "Check object in bucket `warehouse-script`"
   ]
  },
  {
   "cell_type": "code",
   "execution_count": 13,
   "id": "d5dd7c4f",
   "metadata": {},
   "outputs": [
    {
     "name": "stdout",
     "output_type": "stream",
     "text": [
      "['4.PNG', 'Largest-Bank.csv', 'bank_market_cap.json', 'download.jpeg']\n"
     ]
    }
   ],
   "source": [
    "objects_script = client.list_objects(\"warehouse-script\")\n",
    "print([obj.object_name for obj in objects_script])"
   ]
  },
  {
   "cell_type": "markdown",
   "id": "87ecac0c",
   "metadata": {},
   "source": [
    "# Objects operation"
   ]
  },
  {
   "cell_type": "markdown",
   "id": "0baef712",
   "metadata": {},
   "source": [
    "## Remove objects"
   ]
  },
  {
   "cell_type": "markdown",
   "id": "2538b516",
   "metadata": {},
   "source": [
    "Can see that in warehouse-script, there are 4 objects. Try to delete all objects in warehouse-script."
   ]
  },
  {
   "cell_type": "code",
   "execution_count": 15,
   "id": "e3863b34",
   "metadata": {},
   "outputs": [],
   "source": [
    "def delete_all(client, bucket: str):\n",
    "    try: \n",
    "        objects = client.list_objects(bucket)\n",
    "        for obj in objects:\n",
    "            client.remove_object(bucket, obj.object_name)\n",
    "        print(\"delete all objects\")\n",
    "    except S3Error as e:\n",
    "        print(e)"
   ]
  },
  {
   "cell_type": "code",
   "execution_count": 16,
   "id": "5c23b5bd",
   "metadata": {},
   "outputs": [
    {
     "name": "stdout",
     "output_type": "stream",
     "text": [
      "delete all objects\n"
     ]
    }
   ],
   "source": [
    "delete_all(client, \"warehouse-script\")"
   ]
  },
  {
   "cell_type": "markdown",
   "id": "8ab887a6",
   "metadata": {},
   "source": [
    "## Get object from bucket"
   ]
  },
  {
   "cell_type": "markdown",
   "id": "cac321c9",
   "metadata": {},
   "source": [
    "Now try to get data from warehouse-manual"
   ]
  },
  {
   "cell_type": "code",
   "execution_count": 18,
   "id": "9e3a1121",
   "metadata": {},
   "outputs": [],
   "source": [
    "def get_all(client, bucket: str, path: str):\n",
    "    try:\n",
    "        # get all objects in the bucket\n",
    "        objects = client.list_objects(bucket)\n",
    "\n",
    "        # get all files in bucket and load to path\n",
    "        for obj in objects:\n",
    "            client.fget_object(bucket, obj.object_name, f\"{path}/{obj.object_name}\")\n",
    "            print(f\"downloaded {obj.object_name} done\")\n",
    "        print(f\"All following files have been downloaded to {path}\")\n",
    "    except S3Error as e:\n",
    "        print(e)"
   ]
  },
  {
   "cell_type": "markdown",
   "id": "92d3f202",
   "metadata": {},
   "source": [
    "Download all file to ./data directory in local machine"
   ]
  },
  {
   "cell_type": "code",
   "execution_count": 20,
   "id": "b83e1c84",
   "metadata": {},
   "outputs": [
    {
     "name": "stdout",
     "output_type": "stream",
     "text": [
      "downloaded 4.PNG done\n",
      "downloaded Largest-Bank.csv done\n",
      "downloaded bank_market_cap.json done\n",
      "downloaded download.jpeg done\n",
      "All following files have been downloaded to ./data\n"
     ]
    }
   ],
   "source": [
    "get_all(client, \"warehouse-manual\", \"./data\")"
   ]
  },
  {
   "cell_type": "code",
   "execution_count": 29,
   "id": "f9f2d51d",
   "metadata": {},
   "outputs": [
    {
     "data": {
      "text/plain": [
       "['4.PNG', 'bank_market_cap.json', 'Largest-Bank.csv', 'download.jpeg']"
      ]
     },
     "execution_count": 29,
     "metadata": {},
     "output_type": "execute_result"
    }
   ],
   "source": [
    "os.listdir(\"./data\")"
   ]
  },
  {
   "cell_type": "markdown",
   "id": "60fb2954",
   "metadata": {},
   "source": [
    "Now there are 4 files in ./data directory"
   ]
  },
  {
   "cell_type": "markdown",
   "id": "892a58fd",
   "metadata": {},
   "source": [
    "## Put object to bucket"
   ]
  },
  {
   "cell_type": "markdown",
   "id": "bba689ea",
   "metadata": {},
   "source": [
    "Now try to put all data from a local directory to warehouse-script"
   ]
  },
  {
   "cell_type": "code",
   "execution_count": 24,
   "id": "c4df27d9",
   "metadata": {},
   "outputs": [],
   "source": [
    "def put_all(client, bucket: str, local_path: str):\n",
    "    # change workspace to destination directory\n",
    "    os.chdir(local_path)\n",
    "    files = os.listdir(local_path)\n",
    "    \n",
    "    #put all objects to bucket\n",
    "    for file in files:\n",
    "        client.fput_object(bucket, file, f\"{local_path}/{file}\")\n",
    "        print(f\"uploaded {file} done\")\n",
    "    print(f\"All following files have been uploaded to {bucket}\")"
   ]
  },
  {
   "cell_type": "code",
   "execution_count": 29,
   "id": "51dbcf73",
   "metadata": {},
   "outputs": [
    {
     "data": {
      "text/plain": [
       "['4.PNG', 'bank_market_cap.json', 'Largest-Bank.csv', 'download.jpeg']"
      ]
     },
     "execution_count": 29,
     "metadata": {},
     "output_type": "execute_result"
    }
   ],
   "source": [
    "os.listdir(\"./data\")"
   ]
  },
  {
   "cell_type": "markdown",
   "id": "c1956264",
   "metadata": {},
   "source": [
    "There are 4 files in ./data directory, now put these to warehouse-script"
   ]
  },
  {
   "cell_type": "code",
   "execution_count": 30,
   "id": "8c750d86",
   "metadata": {},
   "outputs": [
    {
     "ename": "FileNotFoundError",
     "evalue": "[Errno 2] No such file or directory: './data'",
     "output_type": "error",
     "traceback": [
      "\u001b[0;31m---------------------------------------------------------------------------\u001b[0m",
      "\u001b[0;31mFileNotFoundError\u001b[0m                         Traceback (most recent call last)",
      "Cell \u001b[0;32mIn [30], line 1\u001b[0m\n\u001b[0;32m----> 1\u001b[0m \u001b[43mput_all\u001b[49m\u001b[43m(\u001b[49m\u001b[43mclient\u001b[49m\u001b[43m,\u001b[49m\u001b[43m \u001b[49m\u001b[38;5;124;43m\"\u001b[39;49m\u001b[38;5;124;43mwarehouse-script\u001b[39;49m\u001b[38;5;124;43m\"\u001b[39;49m\u001b[43m,\u001b[49m\u001b[43m \u001b[49m\u001b[38;5;124;43m\"\u001b[39;49m\u001b[38;5;124;43m./data\u001b[39;49m\u001b[38;5;124;43m\"\u001b[39;49m\u001b[43m)\u001b[49m\n",
      "Cell \u001b[0;32mIn [24], line 4\u001b[0m, in \u001b[0;36mput_all\u001b[0;34m(client, bucket, local_path)\u001b[0m\n\u001b[1;32m      1\u001b[0m \u001b[38;5;28;01mdef\u001b[39;00m \u001b[38;5;21mput_all\u001b[39m(client, bucket: \u001b[38;5;28mstr\u001b[39m, local_path: \u001b[38;5;28mstr\u001b[39m):\n\u001b[1;32m      2\u001b[0m     \u001b[38;5;66;03m# change workspace to destination directory\u001b[39;00m\n\u001b[1;32m      3\u001b[0m     os\u001b[38;5;241m.\u001b[39mchdir(local_path)\n\u001b[0;32m----> 4\u001b[0m     files \u001b[38;5;241m=\u001b[39m \u001b[43mos\u001b[49m\u001b[38;5;241;43m.\u001b[39;49m\u001b[43mlistdir\u001b[49m\u001b[43m(\u001b[49m\u001b[43mlocal_path\u001b[49m\u001b[43m)\u001b[49m\n\u001b[1;32m      6\u001b[0m     \u001b[38;5;66;03m#put all objects to bucket\u001b[39;00m\n\u001b[1;32m      7\u001b[0m     \u001b[38;5;28;01mfor\u001b[39;00m file \u001b[38;5;129;01min\u001b[39;00m files:\n",
      "\u001b[0;31mFileNotFoundError\u001b[0m: [Errno 2] No such file or directory: './data'"
     ]
    }
   ],
   "source": [
    "put_all(client, \"warehouse-script\", \"./data\")"
   ]
  },
  {
   "cell_type": "code",
   "execution_count": null,
   "id": "82afea7b",
   "metadata": {},
   "outputs": [],
   "source": []
  }
 ],
 "metadata": {
  "kernelspec": {
   "display_name": "Python 3 (ipykernel)",
   "language": "python",
   "name": "python3"
  },
  "language_info": {
   "codemirror_mode": {
    "name": "ipython",
    "version": 3
   },
   "file_extension": ".py",
   "mimetype": "text/x-python",
   "name": "python",
   "nbconvert_exporter": "python",
   "pygments_lexer": "ipython3",
   "version": "3.8.13"
  }
 },
 "nbformat": 4,
 "nbformat_minor": 5
}
