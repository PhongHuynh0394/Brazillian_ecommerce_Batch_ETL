{
 "cells": [
  {
   "cell_type": "markdown",
   "id": "9987fddc-6e40-466a-b158-c4473b359e3f",
   "metadata": {},
   "source": [
    "# Import module "
   ]
  },
  {
   "cell_type": "code",
   "execution_count": 1,
   "id": "08f5b61d-2672-445c-bb60-48ae86974a86",
   "metadata": {},
   "outputs": [],
   "source": [
    "from minio import Minio\n",
    "from minio.error import S3Error\n",
    "import os"
   ]
  },
  {
   "cell_type": "markdown",
   "id": "ede4e52c-62d0-450b-a0f8-4f324adc4141",
   "metadata": {},
   "source": [
    "Create Minio object"
   ]
  },
  {
   "cell_type": "code",
   "execution_count": 2,
   "id": "039b5ca8-5eae-4bfb-bea8-7fbaef2b3846",
   "metadata": {},
   "outputs": [],
   "source": [
    "client = Minio(\n",
    "        endpoint=\"minio:9000\",\n",
    "        access_key=\"phonghuynh\",\n",
    "        secret_key=\"phonghuynh\",\n",
    "        secure=False\n",
    "    )"
   ]
  },
  {
   "attachments": {},
   "cell_type": "markdown",
   "id": "4b0ef3ce-7035-4aac-827d-501c16dbfcd7",
   "metadata": {},
   "source": [
    "# Check buckets / objects"
   ]
  },
  {
   "cell_type": "markdown",
   "id": "6c5abe96-ea84-43c2-8559-70264a195668",
   "metadata": {},
   "source": [
    "### Check exist bucket function"
   ]
  },
  {
   "cell_type": "code",
   "execution_count": 54,
   "id": "25392848-49ab-49b7-b0af-a70ee445d559",
   "metadata": {},
   "outputs": [],
   "source": [
    "#Check bucket, if not exist -> create\n",
    "def check_bucket_exist(client, bucket: str) -> None:\n",
    "    if client.bucket_exists(bucket):\n",
    "        print(f\"bucket {bucket} exits\")\n",
    "    else:\n",
    "        print(f\"bucket {bucket} does not exist\")\n",
    "        print(f\"Create bucket {bucket}\")\n",
    "        client.make_bucket(bucket)\n"
   ]
  },
  {
   "cell_type": "markdown",
   "id": "6e4d5f38-f8d9-4bc2-b574-b262b54f623e",
   "metadata": {},
   "source": [
    "Check bucket name \"warehouse-manual\""
   ]
  },
  {
   "cell_type": "code",
   "execution_count": 4,
   "id": "3ce70e40-3145-4808-a6d5-239f8821da0f",
   "metadata": {},
   "outputs": [
    {
     "name": "stdout",
     "output_type": "stream",
     "text": [
      "bucket warehouse-manual exits\n"
     ]
    }
   ],
   "source": [
    "bucket = \"warehouse-manual\"\n",
    "check_bucket_exist(client, bucket)"
   ]
  },
  {
   "cell_type": "markdown",
   "id": "70560185",
   "metadata": {},
   "source": [
    "list all bucket"
   ]
  },
  {
   "cell_type": "code",
   "execution_count": 5,
   "id": "b0fc689d",
   "metadata": {},
   "outputs": [
    {
     "name": "stdout",
     "output_type": "stream",
     "text": [
      "[Bucket('warehouse-manual'), Bucket('warehouse-script')]\n"
     ]
    }
   ],
   "source": [
    "buckets = client.list_buckets()\n",
    "print(buckets)"
   ]
  },
  {
   "attachments": {},
   "cell_type": "markdown",
   "id": "0a467e6c",
   "metadata": {},
   "source": [
    "## Check object in bucket"
   ]
  },
  {
   "cell_type": "markdown",
   "id": "5e43f66a",
   "metadata": {},
   "source": [
    "Check object in bucket `warehouse-manual`"
   ]
  },
  {
   "cell_type": "code",
   "execution_count": 6,
   "id": "f2ecd411",
   "metadata": {},
   "outputs": [
    {
     "name": "stdout",
     "output_type": "stream",
     "text": [
      "['4.PNG', 'Largest-Bank.csv', 'bank_market_cap.json', 'download.jpeg']\n"
     ]
    }
   ],
   "source": [
    "objects_manual = client.list_objects(\"warehouse-manual\")\n",
    "print([obj.object_name for obj in objects_manual])"
   ]
  },
  {
   "cell_type": "markdown",
   "id": "b8d400db",
   "metadata": {},
   "source": [
    "Check object in bucket `warehouse-script`"
   ]
  },
  {
   "cell_type": "code",
   "execution_count": 7,
   "id": "d5dd7c4f",
   "metadata": {},
   "outputs": [
    {
     "name": "stdout",
     "output_type": "stream",
     "text": [
      "[]\n"
     ]
    }
   ],
   "source": [
    "objects_script = client.list_objects(\"warehouse-script\")\n",
    "print([obj.object_name for obj in objects_script])"
   ]
  },
  {
   "attachments": {},
   "cell_type": "markdown",
   "id": "9d7f3395",
   "metadata": {},
   "source": [
    "# Buckets operation"
   ]
  },
  {
   "attachments": {},
   "cell_type": "markdown",
   "id": "35f8928e",
   "metadata": {},
   "source": [
    "## Create bucket"
   ]
  },
  {
   "attachments": {},
   "cell_type": "markdown",
   "id": "c75941c7",
   "metadata": {},
   "source": [
    "Let create buckets name `bronze`, `silver` and `gold` -> using `make_bucket()` method\n",
    "\n",
    "But I will use my defined function `check_bucket-exist()` instead"
   ]
  },
  {
   "cell_type": "code",
   "execution_count": 56,
   "id": "92a1564f",
   "metadata": {},
   "outputs": [
    {
     "name": "stdout",
     "output_type": "stream",
     "text": [
      "bucket bronze exits\n",
      "bucket silver exits\n",
      "bucket gold exits\n"
     ]
    }
   ],
   "source": [
    "new_buckets = [\"bronze\", \"silver\", \"gold\"]\n",
    "for _ in new_buckets:\n",
    "    check_bucket_exist(client,_)"
   ]
  },
  {
   "attachments": {},
   "cell_type": "markdown",
   "id": "43d67779",
   "metadata": {},
   "source": [
    "now let check if there were buckets which just be created"
   ]
  },
  {
   "cell_type": "code",
   "execution_count": 57,
   "id": "bffcd7e5",
   "metadata": {},
   "outputs": [
    {
     "name": "stdout",
     "output_type": "stream",
     "text": [
      "[Bucket('bronze'), Bucket('gold'), Bucket('silver'), Bucket('warehouse-manual'), Bucket('warehouse-script')]\n"
     ]
    }
   ],
   "source": [
    "print(client.list_buckets())"
   ]
  },
  {
   "cell_type": "markdown",
   "id": "87ecac0c",
   "metadata": {},
   "source": [
    "# Objects operation"
   ]
  },
  {
   "cell_type": "markdown",
   "id": "0baef712",
   "metadata": {},
   "source": [
    "## Remove objects"
   ]
  },
  {
   "cell_type": "markdown",
   "id": "2538b516",
   "metadata": {},
   "source": [
    "Can see that in warehouse-script, there are 4 objects. Try to delete all objects in warehouse-script."
   ]
  },
  {
   "cell_type": "code",
   "execution_count": 45,
   "id": "e3863b34",
   "metadata": {},
   "outputs": [],
   "source": [
    "def delete_all(client, bucket: str):\n",
    "    try: \n",
    "        objects = client.list_objects(bucket)\n",
    "        for obj in objects:\n",
    "            client.remove_object(bucket, obj.object_name)\n",
    "        print(\"delete all objects\")\n",
    "    except S3Error as e:\n",
    "        print(e)"
   ]
  },
  {
   "cell_type": "code",
   "execution_count": 46,
   "id": "5c23b5bd",
   "metadata": {},
   "outputs": [
    {
     "name": "stdout",
     "output_type": "stream",
     "text": [
      "delete all objects\n"
     ]
    }
   ],
   "source": [
    "delete_all(client, \"warehouse-script\")"
   ]
  },
  {
   "cell_type": "markdown",
   "id": "8ab887a6",
   "metadata": {},
   "source": [
    "## Get object from bucket"
   ]
  },
  {
   "cell_type": "markdown",
   "id": "cac321c9",
   "metadata": {},
   "source": [
    "Now try to get data from warehouse-manual"
   ]
  },
  {
   "cell_type": "code",
   "execution_count": 8,
   "id": "9e3a1121",
   "metadata": {},
   "outputs": [],
   "source": [
    "def get_all(client, bucket: str, path: str):\n",
    "    try:\n",
    "        # get all objects in the bucket\n",
    "        objects = client.list_objects(bucket)\n",
    "\n",
    "        # get all files in bucket and load to path\n",
    "        for obj in objects:\n",
    "            client.fget_object(bucket, obj.object_name, f\"{path}/{obj.object_name}\")\n",
    "            print(f\"downloaded {obj.object_name} done\")\n",
    "        print(f\"All following files have been downloaded to {path}\")\n",
    "    except S3Error as e:\n",
    "        print(e)"
   ]
  },
  {
   "cell_type": "markdown",
   "id": "92d3f202",
   "metadata": {},
   "source": [
    "Download all file to ./data directory in local machine"
   ]
  },
  {
   "cell_type": "code",
   "execution_count": 20,
   "id": "b83e1c84",
   "metadata": {},
   "outputs": [
    {
     "name": "stdout",
     "output_type": "stream",
     "text": [
      "downloaded 4.PNG done\n",
      "downloaded Largest-Bank.csv done\n",
      "downloaded bank_market_cap.json done\n",
      "downloaded download.jpeg done\n",
      "All following files have been downloaded to ./data\n"
     ]
    }
   ],
   "source": [
    "get_all(client, \"warehouse-manual\", \"./data\")"
   ]
  },
  {
   "cell_type": "code",
   "execution_count": 29,
   "id": "f9f2d51d",
   "metadata": {},
   "outputs": [
    {
     "data": {
      "text/plain": [
       "['4.PNG', 'bank_market_cap.json', 'Largest-Bank.csv', 'download.jpeg']"
      ]
     },
     "execution_count": 29,
     "metadata": {},
     "output_type": "execute_result"
    }
   ],
   "source": [
    "os.listdir(\"./data\")"
   ]
  },
  {
   "cell_type": "markdown",
   "id": "60fb2954",
   "metadata": {},
   "source": [
    "Now there are 4 files in ./data directory"
   ]
  },
  {
   "cell_type": "markdown",
   "id": "892a58fd",
   "metadata": {},
   "source": [
    "## Put object to bucket"
   ]
  },
  {
   "cell_type": "markdown",
   "id": "bba689ea",
   "metadata": {},
   "source": [
    "Now try to put all data from a local directory to warehouse-script"
   ]
  },
  {
   "cell_type": "code",
   "execution_count": 40,
   "id": "c4df27d9",
   "metadata": {},
   "outputs": [],
   "source": [
    "def put_all(client, bucket: str, local_path: str):\n",
    "    # change workspace to destination directory\n",
    "    files = os.listdir(local_path)\n",
    "    \n",
    "    #put all objects to bucket\n",
    "    for file in files:\n",
    "        client.fput_object(bucket, file, f\"{local_path}/{file}\")\n",
    "        print(f\"uploaded {file} done\")\n",
    "    print(f\"All following files have been uploaded to {bucket}\")"
   ]
  },
  {
   "cell_type": "markdown",
   "id": "c1956264",
   "metadata": {},
   "source": [
    "There are 4 files in ./data directory, now put these to warehouse-script"
   ]
  },
  {
   "cell_type": "code",
   "execution_count": 49,
   "id": "8c750d86",
   "metadata": {},
   "outputs": [
    {
     "name": "stdout",
     "output_type": "stream",
     "text": [
      "uploaded 4.PNG done\n",
      "uploaded bank_market_cap.json done\n",
      "uploaded Largest-Bank.csv done\n",
      "uploaded download.jpeg done\n",
      "All following files have been uploaded to warehouse-script\n"
     ]
    }
   ],
   "source": [
    "put_all(client, \"warehouse-script\", \"./data\")\n"
   ]
  },
  {
   "attachments": {},
   "cell_type": "markdown",
   "id": "82afea7b",
   "metadata": {},
   "source": [
    "Lets check was it successful in warehouase-script"
   ]
  },
  {
   "cell_type": "code",
   "execution_count": 50,
   "id": "e3b52dca",
   "metadata": {},
   "outputs": [
    {
     "name": "stdout",
     "output_type": "stream",
     "text": [
      "['4.PNG', 'Largest-Bank.csv', 'bank_market_cap.json', 'download.jpeg']\n"
     ]
    }
   ],
   "source": [
    "objects = [obj.object_name for obj in client.list_objects(\"warehouse-script\")]\n",
    "print(objects)"
   ]
  }
 ],
 "metadata": {
  "kernelspec": {
   "display_name": "Python 3",
   "language": "python",
   "name": "python3"
  },
  "language_info": {
   "codemirror_mode": {
    "name": "ipython",
    "version": 3
   },
   "file_extension": ".py",
   "mimetype": "text/x-python",
   "name": "python",
   "nbconvert_exporter": "python",
   "pygments_lexer": "ipython3",
   "version": "3.10.6 (main, May 29 2023, 11:10:38) [GCC 11.3.0]"
  },
  "vscode": {
   "interpreter": {
    "hash": "916dbcbb3f70747c44a77c7bcd40155683ae19c65e1c03b4aa3499c5328201f1"
   }
  }
 },
 "nbformat": 4,
 "nbformat_minor": 5
}
